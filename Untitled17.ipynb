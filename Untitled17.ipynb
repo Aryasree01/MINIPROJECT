{
 "cells": [
  {
   "cell_type": "code",
   "execution_count": 1,
   "id": "cea34161-328e-4b72-9f51-bf1469786125",
   "metadata": {},
   "outputs": [],
   "source": [
    "import numpy as np\n",
    "import pandas as pd\n",
    "from easypreprocessing import EasyPreProcessing\n",
    "import seaborn as sns\n",
    "import matplotlib\n",
    "import matplotlib.pyplot as plt\n",
    "import math\n",
    "import scipy.stats as stats"
   ]
  },
  {
   "cell_type": "code",
   "execution_count": 2,
   "id": "a65eb92c-b7c4-45a9-97ac-aec7dbe94b61",
   "metadata": {},
   "outputs": [
    {
     "data": {
      "text/markdown": [
       "\n",
       "**Initialization Parameters**\n",
       "\n",
       "1.  output            - Set output variable/dependent variable\n",
       "2.  dates.features    - Set datetime field names (optional)\n",
       "\n",
       "For example:\n",
       "1.  output = 'column_name'\n",
       "2.  dates.features = ['date_field_1','date_field_2']\n",
       "        "
      ],
      "text/plain": [
       "<IPython.core.display.Markdown object>"
      ]
     },
     "metadata": {},
     "output_type": "display_data"
    }
   ],
   "source": [
    "prep = EasyPreProcessing('train.csv')"
   ]
  },
  {
   "cell_type": "code",
   "execution_count": 3,
   "id": "06a97758-6ae1-4e89-916b-bed400459bc6",
   "metadata": {},
   "outputs": [
    {
     "data": {
      "text/markdown": [
       "\n",
       "\n",
       "**General Template**\n",
       "<code>\n",
       "from easypreprocessing import EasyPreProcessing\n",
       "prep = EasyPreProcessing('filename_here.csv')\n",
       "prep.df\n",
       "prep.output = 'output_variable_here'\n",
       "prep.remove_blank()\n",
       "prep.missing_values\n",
       "prep.categorical.impute()\n",
       "prep.numerical.impute()\n",
       "prep.categorical.encode()\n",
       "prep.correlation()\n",
       "prep.standardize()\n",
       "X_train, X_test, y_train, y_test = prep.split()\n",
       "</code>\n",
       "\n",
       "\n",
       "**Categorical Preprocessing**\n",
       "<table>\n",
       "<tr>\n",
       "<td>categorical.fields</td><td>Display all categorical field names</td>\n",
       "</tr>\n",
       "<tr>\n",
       "<td>categorical.unique</td><td>Display unique/distinct categorical values</td>\n",
       "</tr>\n",
       "<tr>\n",
       "<td>categorical.impute()</td><td>Handle categorical missing values. Parameters {'mean', 'medium', 'mode'}</td>\n",
       "</tr>\n",
       "<tr>\n",
       "<td>categorical.encode()</td><td>Encode categorical features. Parameters {'le': LabelEncoding, 'ohe': OneHotEncoding}</td>\n",
       "</tr>\n",
       "</table>\n",
       "\n",
       "**Numerical Preprocessing**\n",
       "<table>\n",
       "<tr>\n",
       "<td>numerical.fields</td><td>Display all numerical field names</td>\n",
       "</tr>\n",
       "<tr>\n",
       "<td>numerical.impute()</td><td>Handle numerical missing values. Parameters {'mean', 'medium', 'mode'}</td>\n",
       "</tr>\n",
       "</table>\n",
       "\n",
       "**Date Preprocessing**\n",
       "<table>\n",
       "<tr>\n",
       "<td>dates.features</td><td>Define list of all datetime feature names</td>\n",
       "</tr>\n",
       "<tr>\n",
       "<td>dates.split_datetime()</td><td>Split all datetime features into discrete fields (Year, Month, Day, Hour, Minute)</td>\n",
       "</tr>\n",
       "</table>\n",
       "\n",
       "**General Preprocessing**\n",
       "<table>\n",
       "<tr>\n",
       "<td>missing_values</td><td>Display missing value report</td>\n",
       "</tr>\n",
       "<tr>\n",
       "<td>remove_blank()</td><td>Remove empty/blank columns</td>\n",
       "</tr>\n",
       "<tr>\n",
       "<td>correlation()</td><td>Display correlation heatmap</td>\n",
       "</tr>\n",
       "<tr>\n",
       "<td>standardize()</td><td>Standardize entire dataset except dependent variable</td>\n",
       "</tr>\n",
       "<tr>\n",
       "<td>encode_output()</td><td>Encode dependent feature/output variable</td>\n",
       "</tr>\n",
       "<tr>\n",
       "<td>over_sample()</td><td>Oversample dataset. Parameters {'smote': SMOTE, 'ros': RandomOverSample}</td>\n",
       "</tr>\n",
       "<tr>\n",
       "<td>clustering.apply()</td><td>Cluster dataset using elbow plot</td>\n",
       "</tr>\n",
       "</table>\n",
       "        "
      ],
      "text/plain": [
       "<IPython.core.display.Markdown object>"
      ]
     },
     "metadata": {},
     "output_type": "display_data"
    }
   ],
   "source": [
    "prep.info"
   ]
  },
  {
   "cell_type": "code",
   "execution_count": 4,
   "id": "b01ae796-d4e7-4c7c-8620-048fb7a3afc2",
   "metadata": {},
   "outputs": [
    {
     "data": {
      "text/plain": [
       "['week']"
      ]
     },
     "execution_count": 4,
     "metadata": {},
     "output_type": "execute_result"
    }
   ],
   "source": [
    "prep.categorical.fields"
   ]
  },
  {
   "cell_type": "code",
   "execution_count": 5,
   "id": "b044c011-520c-479a-b1ad-cccb2ea04d20",
   "metadata": {},
   "outputs": [
    {
     "data": {
      "text/plain": [
       "['record_ID',\n",
       " 'store_id',\n",
       " 'sku_id',\n",
       " 'total_price',\n",
       " 'base_price',\n",
       " 'is_featured_sku',\n",
       " 'is_display_sku',\n",
       " 'units_sold']"
      ]
     },
     "execution_count": 5,
     "metadata": {},
     "output_type": "execute_result"
    }
   ],
   "source": [
    "prep.numerical.fields"
   ]
  },
  {
   "cell_type": "code",
   "execution_count": 6,
   "id": "947d5463-d089-40af-970a-39800f2e6af9",
   "metadata": {},
   "outputs": [
    {
     "name": "stdout",
     "output_type": "stream",
     "text": [
      "Numerical features imputated successfully.\n"
     ]
    }
   ],
   "source": [
    "prep.numerical.impute()"
   ]
  },
  {
   "cell_type": "code",
   "execution_count": 7,
   "id": "ab674d36-1e98-4c39-be45-978f4f7f450a",
   "metadata": {},
   "outputs": [
    {
     "data": {
      "text/html": [
       "<div>\n",
       "<style scoped>\n",
       "    .dataframe tbody tr th:only-of-type {\n",
       "        vertical-align: middle;\n",
       "    }\n",
       "\n",
       "    .dataframe tbody tr th {\n",
       "        vertical-align: top;\n",
       "    }\n",
       "\n",
       "    .dataframe thead th {\n",
       "        text-align: right;\n",
       "    }\n",
       "</style>\n",
       "<table border=\"1\" class=\"dataframe\">\n",
       "  <thead>\n",
       "    <tr style=\"text-align: right;\">\n",
       "      <th></th>\n",
       "      <th>record_ID</th>\n",
       "      <th>week</th>\n",
       "      <th>store_id</th>\n",
       "      <th>sku_id</th>\n",
       "      <th>total_price</th>\n",
       "      <th>base_price</th>\n",
       "      <th>is_featured_sku</th>\n",
       "      <th>is_display_sku</th>\n",
       "      <th>units_sold</th>\n",
       "    </tr>\n",
       "  </thead>\n",
       "  <tbody>\n",
       "    <tr>\n",
       "      <th>0</th>\n",
       "      <td>1.0</td>\n",
       "      <td>17/01/11</td>\n",
       "      <td>8091.0</td>\n",
       "      <td>216418.0</td>\n",
       "      <td>99.0375</td>\n",
       "      <td>111.8625</td>\n",
       "      <td>0.0</td>\n",
       "      <td>0.0</td>\n",
       "      <td>20.0</td>\n",
       "    </tr>\n",
       "    <tr>\n",
       "      <th>1</th>\n",
       "      <td>2.0</td>\n",
       "      <td>17/01/11</td>\n",
       "      <td>8091.0</td>\n",
       "      <td>216419.0</td>\n",
       "      <td>99.0375</td>\n",
       "      <td>99.0375</td>\n",
       "      <td>0.0</td>\n",
       "      <td>0.0</td>\n",
       "      <td>28.0</td>\n",
       "    </tr>\n",
       "    <tr>\n",
       "      <th>2</th>\n",
       "      <td>3.0</td>\n",
       "      <td>17/01/11</td>\n",
       "      <td>8091.0</td>\n",
       "      <td>216425.0</td>\n",
       "      <td>133.9500</td>\n",
       "      <td>133.9500</td>\n",
       "      <td>0.0</td>\n",
       "      <td>0.0</td>\n",
       "      <td>19.0</td>\n",
       "    </tr>\n",
       "    <tr>\n",
       "      <th>3</th>\n",
       "      <td>4.0</td>\n",
       "      <td>17/01/11</td>\n",
       "      <td>8091.0</td>\n",
       "      <td>216233.0</td>\n",
       "      <td>133.9500</td>\n",
       "      <td>133.9500</td>\n",
       "      <td>0.0</td>\n",
       "      <td>0.0</td>\n",
       "      <td>44.0</td>\n",
       "    </tr>\n",
       "    <tr>\n",
       "      <th>4</th>\n",
       "      <td>5.0</td>\n",
       "      <td>17/01/11</td>\n",
       "      <td>8091.0</td>\n",
       "      <td>217390.0</td>\n",
       "      <td>141.0750</td>\n",
       "      <td>141.0750</td>\n",
       "      <td>0.0</td>\n",
       "      <td>0.0</td>\n",
       "      <td>52.0</td>\n",
       "    </tr>\n",
       "    <tr>\n",
       "      <th>...</th>\n",
       "      <td>...</td>\n",
       "      <td>...</td>\n",
       "      <td>...</td>\n",
       "      <td>...</td>\n",
       "      <td>...</td>\n",
       "      <td>...</td>\n",
       "      <td>...</td>\n",
       "      <td>...</td>\n",
       "      <td>...</td>\n",
       "    </tr>\n",
       "    <tr>\n",
       "      <th>147</th>\n",
       "      <td>196.0</td>\n",
       "      <td>17/01/11</td>\n",
       "      <td>8218.0</td>\n",
       "      <td>217217.0</td>\n",
       "      <td>237.9750</td>\n",
       "      <td>237.9750</td>\n",
       "      <td>0.0</td>\n",
       "      <td>0.0</td>\n",
       "      <td>3.0</td>\n",
       "    </tr>\n",
       "    <tr>\n",
       "      <th>148</th>\n",
       "      <td>199.0</td>\n",
       "      <td>17/01/11</td>\n",
       "      <td>8218.0</td>\n",
       "      <td>219009.0</td>\n",
       "      <td>217.3125</td>\n",
       "      <td>217.3125</td>\n",
       "      <td>0.0</td>\n",
       "      <td>0.0</td>\n",
       "      <td>31.0</td>\n",
       "    </tr>\n",
       "    <tr>\n",
       "      <th>149</th>\n",
       "      <td>200.0</td>\n",
       "      <td>17/01/11</td>\n",
       "      <td>8218.0</td>\n",
       "      <td>219029.0</td>\n",
       "      <td>264.3375</td>\n",
       "      <td>295.6875</td>\n",
       "      <td>0.0</td>\n",
       "      <td>1.0</td>\n",
       "      <td>30.0</td>\n",
       "    </tr>\n",
       "    <tr>\n",
       "      <th>150</th>\n",
       "      <td>201.0</td>\n",
       "      <td>17/01/11</td>\n",
       "      <td>8218.0</td>\n",
       "      <td>222087.0</td>\n",
       "      <td>191.6625</td>\n",
       "      <td>223.7250</td>\n",
       "      <td>0.0</td>\n",
       "      <td>0.0</td>\n",
       "      <td>10.0</td>\n",
       "    </tr>\n",
       "    <tr>\n",
       "      <th>151</th>\n",
       "      <td>202.0</td>\n",
       "      <td>17/01/11</td>\n",
       "      <td>8218.0</td>\n",
       "      <td>320485.0</td>\n",
       "      <td>177.4125</td>\n",
       "      <td>177.4125</td>\n",
       "      <td>0.0</td>\n",
       "      <td>0.0</td>\n",
       "      <td>14.0</td>\n",
       "    </tr>\n",
       "  </tbody>\n",
       "</table>\n",
       "<p>152 rows × 9 columns</p>\n",
       "</div>"
      ],
      "text/plain": [
       "     record_ID      week  store_id    sku_id  total_price  base_price  \\\n",
       "0          1.0  17/01/11    8091.0  216418.0      99.0375    111.8625   \n",
       "1          2.0  17/01/11    8091.0  216419.0      99.0375     99.0375   \n",
       "2          3.0  17/01/11    8091.0  216425.0     133.9500    133.9500   \n",
       "3          4.0  17/01/11    8091.0  216233.0     133.9500    133.9500   \n",
       "4          5.0  17/01/11    8091.0  217390.0     141.0750    141.0750   \n",
       "..         ...       ...       ...       ...          ...         ...   \n",
       "147      196.0  17/01/11    8218.0  217217.0     237.9750    237.9750   \n",
       "148      199.0  17/01/11    8218.0  219009.0     217.3125    217.3125   \n",
       "149      200.0  17/01/11    8218.0  219029.0     264.3375    295.6875   \n",
       "150      201.0  17/01/11    8218.0  222087.0     191.6625    223.7250   \n",
       "151      202.0  17/01/11    8218.0  320485.0     177.4125    177.4125   \n",
       "\n",
       "     is_featured_sku  is_display_sku  units_sold  \n",
       "0                0.0             0.0        20.0  \n",
       "1                0.0             0.0        28.0  \n",
       "2                0.0             0.0        19.0  \n",
       "3                0.0             0.0        44.0  \n",
       "4                0.0             0.0        52.0  \n",
       "..               ...             ...         ...  \n",
       "147              0.0             0.0         3.0  \n",
       "148              0.0             0.0        31.0  \n",
       "149              0.0             1.0        30.0  \n",
       "150              0.0             0.0        10.0  \n",
       "151              0.0             0.0        14.0  \n",
       "\n",
       "[152 rows x 9 columns]"
      ]
     },
     "execution_count": 7,
     "metadata": {},
     "output_type": "execute_result"
    }
   ],
   "source": [
    "prep.df"
   ]
  }
 ],
 "metadata": {
  "kernelspec": {
   "display_name": "Python 3 (ipykernel)",
   "language": "python",
   "name": "python3"
  },
  "language_info": {
   "codemirror_mode": {
    "name": "ipython",
    "version": 3
   },
   "file_extension": ".py",
   "mimetype": "text/x-python",
   "name": "python",
   "nbconvert_exporter": "python",
   "pygments_lexer": "ipython3",
   "version": "3.10.4"
  }
 },
 "nbformat": 4,
 "nbformat_minor": 5
}
